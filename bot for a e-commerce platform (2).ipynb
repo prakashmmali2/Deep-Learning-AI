{
 "cells": [
  {
   "cell_type": "code",
   "execution_count": 27,
   "id": "2ba7aec1-7eac-460c-b84d-6af7fcee44e2",
   "metadata": {},
   "outputs": [],
   "source": [
    "import pandas as pd\n",
    "import numpy as np\n",
    "from sklearn.model_selection import train_test_split\n",
    "from sklearn.metrics.pairwise import cosine_similarity\n"
   ]
  },
  {
   "cell_type": "code",
   "execution_count": 20,
   "id": "9358478e-46d0-4717-8f6d-7cb1dc5d4730",
   "metadata": {},
   "outputs": [],
   "source": [
    "# Sample user-product interaction data\n",
    "data = {\n",
    "    'User': ['Alice', 'Bob', 'Charlie', 'David', 'Eve'],\n",
    "    'Product1': [1, 0, 0, 1, 0],\n",
    "    'Product2': [0, 1, 0, 1, 1],\n",
    "    'Product3': [1, 0, 1, 1, 0],\n",
    "}\n",
    "\n",
    "df = pd.DataFrame(data)"
   ]
  },
  {
   "cell_type": "code",
   "execution_count": 21,
   "id": "d4f5affd-5289-47c1-9d41-b48adcce8c46",
   "metadata": {},
   "outputs": [],
   "source": [
    "# Removing the 'User' column before calculating similarity\n",
    "user_item_matrix = df.set_index('User')\n",
    "\n",
    "# User-User Collaboration Filtering\n",
    "user_similarity = cosine_similarity(user_item_matrix)\n",
    "user_similarity_df = pd.DataFrame(user_similarity, index=df['User'], columns=df['User'])\n"
   ]
  },
  {
   "cell_type": "code",
   "execution_count": 22,
   "id": "e4601ee0-96a9-4cb0-9523-0564799619f0",
   "metadata": {},
   "outputs": [
    {
     "name": "stdout",
     "output_type": "stream",
     "text": [
      "{'Product1', 'Product3', 'Product2'}\n"
     ]
    }
   ],
   "source": [
    "# Function to recommend products\n",
    "def recommend(user):\n",
    "    similar_users = user_similarity_df[user].sort_values(ascending=False)\n",
    "    recommendations = set()\n",
    "    \n",
    "    # Loop through similar users, skipping the user themselves\n",
    "    for similar_user in similar_users.index[1:]:\n",
    "        # Get the indices of the products liked by the similar user\n",
    "        liked_products = user_item_matrix.loc[similar_user]\n",
    "        recommendations.update(user_item_matrix.columns[liked_products == 1].tolist())\n",
    "\n",
    "    return recommendations\n",
    "\n",
    "# Test the function\n",
    "print(recommend('Alice'))"
   ]
  }
 ],
 "metadata": {
  "kernelspec": {
   "display_name": "Python 3 (ipykernel)",
   "language": "python",
   "name": "python3"
  },
  "language_info": {
   "codemirror_mode": {
    "name": "ipython",
    "version": 3
   },
   "file_extension": ".py",
   "mimetype": "text/x-python",
   "name": "python",
   "nbconvert_exporter": "python",
   "pygments_lexer": "ipython3",
   "version": "3.12.4"
  }
 },
 "nbformat": 4,
 "nbformat_minor": 5
}

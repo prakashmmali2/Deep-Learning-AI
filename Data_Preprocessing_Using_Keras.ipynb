{
 "cells": [
  {
   "cell_type": "code",
   "execution_count": 1,
   "id": "55b7fea2-b118-44b1-9767-97931b959384",
   "metadata": {},
   "outputs": [],
   "source": [
    "import numpy as np\n",
    "from random import randint\n",
    "from sklearn.utils import shuffle\n",
    "from sklearn.preprocessing import MinMaxScaler"
   ]
  },
  {
   "cell_type": "code",
   "execution_count": 2,
   "id": "7543247b-17c6-44fb-806e-fc1d70de2343",
   "metadata": {},
   "outputs": [],
   "source": [
    "train_lebels = []\n",
    "train_sample = []"
   ]
  },
  {
   "cell_type": "markdown",
   "id": "aa986752-0d3b-4614-9f7d-a95acd21fd92",
   "metadata": {},
   "source": [
    "Exam:\n",
    "\n",
    "Exprerient drug was testes on 2100 peopes\n",
    "who are 50% > 65 age and 50% < 65 age\n"
   ]
  },
  {
   "cell_type": "code",
   "execution_count": 4,
   "id": "559bc384-c5e9-4cea-b934-98e7b82ed732",
   "metadata": {},
   "outputs": [],
   "source": [
    "for i in range(50):\n",
    "    # the ~5% of Younger pepoles in who did exprience side effect of medicis\n",
    "    random_young = randint(13,64)\n",
    "    train_sample.append(random_young)\n",
    "    train_lebels.append(1)\n",
    "\n",
    "    # the ~5% of Older pepoles in who did exprience side effect of medicis\n",
    "    random_older = randint(65,100)\n",
    "    train_sample.append(random_older)\n",
    "    train_lebels.append(0)\n",
    "\n",
    "for i in range(1000):\n",
    "        # the ~95% of Younger pepoles in who did not exprience side effect of medicis\n",
    "    random_young = randint(13,64)\n",
    "    train_sample.append(random_young)\n",
    "    train_lebels.append(0)\n",
    "\n",
    "    # the ~95% of Older pepoles in who did not exprience side effect of medicis\n",
    "    random_older = randint(65,100)\n",
    "    train_sample.append(random_older)\n",
    "    train_lebels.append(1)\n",
    "    \n",
    "    "
   ]
  },
  {
   "cell_type": "code",
   "execution_count": 5,
   "id": "04f8aef7-5c84-44a4-8659-eec1ef0ffaff",
   "metadata": {},
   "outputs": [
    {
     "name": "stdout",
     "output_type": "stream",
     "text": [
      "2100 [34, 91, 18, 94, 53]\n",
      "2100 [1, 0, 1, 0, 1]\n"
     ]
    }
   ],
   "source": [
    "print(len(train_sample),train_sample[:5])\n",
    "print(len(train_lebels),train_lebels[:5])"
   ]
  },
  {
   "cell_type": "code",
   "execution_count": 6,
   "id": "25d855dc-21b0-4df9-8b95-84d23536c44f",
   "metadata": {},
   "outputs": [],
   "source": [
    "train_lebels = np.array(train_lebels)\n",
    "train_sample = np.array(train_sample)\n",
    "train_lebels , train_sample = shuffle(train_lebels , train_sample)"
   ]
  },
  {
   "cell_type": "code",
   "execution_count": 7,
   "id": "41fdd185-17e7-435e-bf49-e73eaff4c17f",
   "metadata": {},
   "outputs": [
    {
     "data": {
      "text/plain": [
       "array([[0.48275862],\n",
       "       [0.27586207],\n",
       "       [0.62068966],\n",
       "       [0.29885057],\n",
       "       [0.24137931]])"
      ]
     },
     "execution_count": 7,
     "metadata": {},
     "output_type": "execute_result"
    }
   ],
   "source": [
    "scaler = MinMaxScaler(feature_range = (0,1))\n",
    "scaled_train_sample = scaler.fit_transform(train_sample.reshape(-1,1))\n",
    "scaled_train_sample[:5]"
   ]
  },
  {
   "cell_type": "markdown",
   "id": "f7f35e7a-510c-466c-b21e-eca4eb2afed1",
   "metadata": {},
   "source": [
    "Creating Artificial Neural Network"
   ]
  },
  {
   "cell_type": "code",
   "execution_count": 9,
   "id": "10c3b88c-3c6b-4fb2-8854-8ba5bb614b3e",
   "metadata": {},
   "outputs": [],
   "source": [
    "import tensorflow as tf\n",
    "from tensorflow import keras  \n",
    "from tensorflow.keras.models import Sequential  # In a sequincial model\n",
    "from tensorflow.keras.layers import Activation , Dense\n",
    "from tensorflow.keras.optimizers import Adam  #Actitviation and optimize the data\n",
    "from tensorflow.keras.metrics import categorical_crossentropy  #Cress_Categorical division"
   ]
  },
  {
   "cell_type": "code",
   "execution_count": 10,
   "id": "079016cd-6fa8-45bb-b0c8-6ea95c847d17",
   "metadata": {},
   "outputs": [
    {
     "name": "stderr",
     "output_type": "stream",
     "text": [
      "C:\\Jupyter\\New folder\\Lib\\site-packages\\keras\\src\\layers\\core\\dense.py:87: UserWarning: Do not pass an `input_shape`/`input_dim` argument to a layer. When using Sequential models, prefer using an `Input(shape)` object as the first layer in the model instead.\n",
      "  super().__init__(activity_regularizer=activity_regularizer, **kwargs)\n"
     ]
    }
   ],
   "source": [
    "model = Sequential([\n",
    "    Dense(units = 16 , input_shape = (1,) , activation = \"relu\"),\n",
    "    Dense(units = 32 , activation = \"relu\"),\n",
    "    Dense(units = 2 , activation = \"softmax\")])\n"
   ]
  },
  {
   "cell_type": "code",
   "execution_count": 11,
   "id": "fbd0a40b-045c-4277-9a1e-10787024945b",
   "metadata": {},
   "outputs": [
    {
     "data": {
      "text/html": [
       "<pre style=\"white-space:pre;overflow-x:auto;line-height:normal;font-family:Menlo,'DejaVu Sans Mono',consolas,'Courier New',monospace\"><span style=\"font-weight: bold\">Model: \"sequential\"</span>\n",
       "</pre>\n"
      ],
      "text/plain": [
       "\u001b[1mModel: \"sequential\"\u001b[0m\n"
      ]
     },
     "metadata": {},
     "output_type": "display_data"
    },
    {
     "data": {
      "text/html": [
       "<pre style=\"white-space:pre;overflow-x:auto;line-height:normal;font-family:Menlo,'DejaVu Sans Mono',consolas,'Courier New',monospace\">┏━━━━━━━━━━━━━━━━━━━━━━━━━━━━━━━━━┳━━━━━━━━━━━━━━━━━━━━━━━━┳━━━━━━━━━━━━━━━┓\n",
       "┃<span style=\"font-weight: bold\"> Layer (type)                    </span>┃<span style=\"font-weight: bold\"> Output Shape           </span>┃<span style=\"font-weight: bold\">       Param # </span>┃\n",
       "┡━━━━━━━━━━━━━━━━━━━━━━━━━━━━━━━━━╇━━━━━━━━━━━━━━━━━━━━━━━━╇━━━━━━━━━━━━━━━┩\n",
       "│ dense (<span style=\"color: #0087ff; text-decoration-color: #0087ff\">Dense</span>)                   │ (<span style=\"color: #00d7ff; text-decoration-color: #00d7ff\">None</span>, <span style=\"color: #00af00; text-decoration-color: #00af00\">16</span>)             │            <span style=\"color: #00af00; text-decoration-color: #00af00\">32</span> │\n",
       "├─────────────────────────────────┼────────────────────────┼───────────────┤\n",
       "│ dense_1 (<span style=\"color: #0087ff; text-decoration-color: #0087ff\">Dense</span>)                 │ (<span style=\"color: #00d7ff; text-decoration-color: #00d7ff\">None</span>, <span style=\"color: #00af00; text-decoration-color: #00af00\">32</span>)             │           <span style=\"color: #00af00; text-decoration-color: #00af00\">544</span> │\n",
       "├─────────────────────────────────┼────────────────────────┼───────────────┤\n",
       "│ dense_2 (<span style=\"color: #0087ff; text-decoration-color: #0087ff\">Dense</span>)                 │ (<span style=\"color: #00d7ff; text-decoration-color: #00d7ff\">None</span>, <span style=\"color: #00af00; text-decoration-color: #00af00\">2</span>)              │            <span style=\"color: #00af00; text-decoration-color: #00af00\">66</span> │\n",
       "└─────────────────────────────────┴────────────────────────┴───────────────┘\n",
       "</pre>\n"
      ],
      "text/plain": [
       "┏━━━━━━━━━━━━━━━━━━━━━━━━━━━━━━━━━┳━━━━━━━━━━━━━━━━━━━━━━━━┳━━━━━━━━━━━━━━━┓\n",
       "┃\u001b[1m \u001b[0m\u001b[1mLayer (type)                   \u001b[0m\u001b[1m \u001b[0m┃\u001b[1m \u001b[0m\u001b[1mOutput Shape          \u001b[0m\u001b[1m \u001b[0m┃\u001b[1m \u001b[0m\u001b[1m      Param #\u001b[0m\u001b[1m \u001b[0m┃\n",
       "┡━━━━━━━━━━━━━━━━━━━━━━━━━━━━━━━━━╇━━━━━━━━━━━━━━━━━━━━━━━━╇━━━━━━━━━━━━━━━┩\n",
       "│ dense (\u001b[38;5;33mDense\u001b[0m)                   │ (\u001b[38;5;45mNone\u001b[0m, \u001b[38;5;34m16\u001b[0m)             │            \u001b[38;5;34m32\u001b[0m │\n",
       "├─────────────────────────────────┼────────────────────────┼───────────────┤\n",
       "│ dense_1 (\u001b[38;5;33mDense\u001b[0m)                 │ (\u001b[38;5;45mNone\u001b[0m, \u001b[38;5;34m32\u001b[0m)             │           \u001b[38;5;34m544\u001b[0m │\n",
       "├─────────────────────────────────┼────────────────────────┼───────────────┤\n",
       "│ dense_2 (\u001b[38;5;33mDense\u001b[0m)                 │ (\u001b[38;5;45mNone\u001b[0m, \u001b[38;5;34m2\u001b[0m)              │            \u001b[38;5;34m66\u001b[0m │\n",
       "└─────────────────────────────────┴────────────────────────┴───────────────┘\n"
      ]
     },
     "metadata": {},
     "output_type": "display_data"
    },
    {
     "data": {
      "text/html": [
       "<pre style=\"white-space:pre;overflow-x:auto;line-height:normal;font-family:Menlo,'DejaVu Sans Mono',consolas,'Courier New',monospace\"><span style=\"font-weight: bold\"> Total params: </span><span style=\"color: #00af00; text-decoration-color: #00af00\">642</span> (2.51 KB)\n",
       "</pre>\n"
      ],
      "text/plain": [
       "\u001b[1m Total params: \u001b[0m\u001b[38;5;34m642\u001b[0m (2.51 KB)\n"
      ]
     },
     "metadata": {},
     "output_type": "display_data"
    },
    {
     "data": {
      "text/html": [
       "<pre style=\"white-space:pre;overflow-x:auto;line-height:normal;font-family:Menlo,'DejaVu Sans Mono',consolas,'Courier New',monospace\"><span style=\"font-weight: bold\"> Trainable params: </span><span style=\"color: #00af00; text-decoration-color: #00af00\">642</span> (2.51 KB)\n",
       "</pre>\n"
      ],
      "text/plain": [
       "\u001b[1m Trainable params: \u001b[0m\u001b[38;5;34m642\u001b[0m (2.51 KB)\n"
      ]
     },
     "metadata": {},
     "output_type": "display_data"
    },
    {
     "data": {
      "text/html": [
       "<pre style=\"white-space:pre;overflow-x:auto;line-height:normal;font-family:Menlo,'DejaVu Sans Mono',consolas,'Courier New',monospace\"><span style=\"font-weight: bold\"> Non-trainable params: </span><span style=\"color: #00af00; text-decoration-color: #00af00\">0</span> (0.00 B)\n",
       "</pre>\n"
      ],
      "text/plain": [
       "\u001b[1m Non-trainable params: \u001b[0m\u001b[38;5;34m0\u001b[0m (0.00 B)\n"
      ]
     },
     "metadata": {},
     "output_type": "display_data"
    }
   ],
   "source": [
    "model.summary()"
   ]
  },
  {
   "cell_type": "markdown",
   "id": "1049e8d0-72e0-4bff-8fb1-979767063963",
   "metadata": {},
   "source": [
    "Training Model"
   ]
  },
  {
   "cell_type": "code",
   "execution_count": 13,
   "id": "67e173e3-3766-4a5a-bada-c73fbf2bc7d3",
   "metadata": {},
   "outputs": [],
   "source": [
    "model.compile(optimizer = Adam(learning_rate = 0.0001) , loss = 'sparse_categorical_crossentropy', metrics = ['accuracy'])"
   ]
  },
  {
   "cell_type": "code",
   "execution_count": 14,
   "id": "1822c9ff-0e41-45c5-ab05-d1d565cea2bc",
   "metadata": {},
   "outputs": [
    {
     "name": "stdout",
     "output_type": "stream",
     "text": [
      "Epoch 1/30\n",
      "189/189 - 1s - 6ms/step - accuracy: 0.4614 - loss: 0.7084 - val_accuracy: 0.6000 - val_loss: 0.6841\n",
      "Epoch 2/30\n",
      "189/189 - 0s - 768us/step - accuracy: 0.5772 - loss: 0.6673 - val_accuracy: 0.6857 - val_loss: 0.6391\n",
      "Epoch 3/30\n",
      "189/189 - 0s - 759us/step - accuracy: 0.6778 - loss: 0.6268 - val_accuracy: 0.7143 - val_loss: 0.5994\n",
      "Epoch 4/30\n",
      "189/189 - 0s - 741us/step - accuracy: 0.7175 - loss: 0.5932 - val_accuracy: 0.7619 - val_loss: 0.5717\n",
      "Epoch 5/30\n",
      "189/189 - 0s - 755us/step - accuracy: 0.7550 - loss: 0.5642 - val_accuracy: 0.7714 - val_loss: 0.5461\n",
      "Epoch 6/30\n",
      "189/189 - 0s - 733us/step - accuracy: 0.7852 - loss: 0.5359 - val_accuracy: 0.7857 - val_loss: 0.5232\n",
      "Epoch 7/30\n",
      "189/189 - 0s - 752us/step - accuracy: 0.8042 - loss: 0.5087 - val_accuracy: 0.8000 - val_loss: 0.5010\n",
      "Epoch 8/30\n",
      "189/189 - 0s - 746us/step - accuracy: 0.8233 - loss: 0.4823 - val_accuracy: 0.8143 - val_loss: 0.4816\n",
      "Epoch 9/30\n",
      "189/189 - 0s - 743us/step - accuracy: 0.8397 - loss: 0.4570 - val_accuracy: 0.8333 - val_loss: 0.4623\n",
      "Epoch 10/30\n",
      "189/189 - 0s - 752us/step - accuracy: 0.8566 - loss: 0.4330 - val_accuracy: 0.8429 - val_loss: 0.4441\n",
      "Epoch 11/30\n",
      "189/189 - 0s - 745us/step - accuracy: 0.8677 - loss: 0.4103 - val_accuracy: 0.8476 - val_loss: 0.4283\n",
      "Epoch 12/30\n",
      "189/189 - 0s - 732us/step - accuracy: 0.8862 - loss: 0.3895 - val_accuracy: 0.8524 - val_loss: 0.4135\n",
      "Epoch 13/30\n",
      "189/189 - 0s - 741us/step - accuracy: 0.8937 - loss: 0.3705 - val_accuracy: 0.8571 - val_loss: 0.4004\n",
      "Epoch 14/30\n",
      "189/189 - 0s - 745us/step - accuracy: 0.9000 - loss: 0.3538 - val_accuracy: 0.8857 - val_loss: 0.3894\n",
      "Epoch 15/30\n",
      "189/189 - 0s - 748us/step - accuracy: 0.9095 - loss: 0.3391 - val_accuracy: 0.8857 - val_loss: 0.3798\n",
      "Epoch 16/30\n",
      "189/189 - 0s - 741us/step - accuracy: 0.9127 - loss: 0.3258 - val_accuracy: 0.9048 - val_loss: 0.3720\n",
      "Epoch 17/30\n",
      "189/189 - 0s - 749us/step - accuracy: 0.9206 - loss: 0.3146 - val_accuracy: 0.9095 - val_loss: 0.3653\n",
      "Epoch 18/30\n",
      "189/189 - 0s - 758us/step - accuracy: 0.9233 - loss: 0.3048 - val_accuracy: 0.9095 - val_loss: 0.3594\n",
      "Epoch 19/30\n",
      "189/189 - 0s - 747us/step - accuracy: 0.9270 - loss: 0.2964 - val_accuracy: 0.9095 - val_loss: 0.3548\n",
      "Epoch 20/30\n",
      "189/189 - 0s - 731us/step - accuracy: 0.9286 - loss: 0.2893 - val_accuracy: 0.9190 - val_loss: 0.3512\n",
      "Epoch 21/30\n",
      "189/189 - 0s - 750us/step - accuracy: 0.9265 - loss: 0.2832 - val_accuracy: 0.9190 - val_loss: 0.3483\n",
      "Epoch 22/30\n",
      "189/189 - 0s - 739us/step - accuracy: 0.9344 - loss: 0.2780 - val_accuracy: 0.9190 - val_loss: 0.3459\n",
      "Epoch 23/30\n",
      "189/189 - 0s - 742us/step - accuracy: 0.9360 - loss: 0.2737 - val_accuracy: 0.9190 - val_loss: 0.3442\n",
      "Epoch 24/30\n",
      "189/189 - 0s - 744us/step - accuracy: 0.9349 - loss: 0.2697 - val_accuracy: 0.9238 - val_loss: 0.3426\n",
      "Epoch 25/30\n",
      "189/189 - 0s - 747us/step - accuracy: 0.9354 - loss: 0.2665 - val_accuracy: 0.9238 - val_loss: 0.3415\n",
      "Epoch 26/30\n",
      "189/189 - 0s - 741us/step - accuracy: 0.9407 - loss: 0.2640 - val_accuracy: 0.9238 - val_loss: 0.3407\n",
      "Epoch 27/30\n",
      "189/189 - 0s - 765us/step - accuracy: 0.9413 - loss: 0.2614 - val_accuracy: 0.9238 - val_loss: 0.3403\n",
      "Epoch 28/30\n",
      "189/189 - 0s - 734us/step - accuracy: 0.9413 - loss: 0.2593 - val_accuracy: 0.9238 - val_loss: 0.3399\n",
      "Epoch 29/30\n",
      "189/189 - 0s - 745us/step - accuracy: 0.9413 - loss: 0.2576 - val_accuracy: 0.9238 - val_loss: 0.3395\n",
      "Epoch 30/30\n",
      "189/189 - 0s - 749us/step - accuracy: 0.9418 - loss: 0.2563 - val_accuracy: 0.9238 - val_loss: 0.3398\n"
     ]
    },
    {
     "data": {
      "text/plain": [
       "<keras.src.callbacks.history.History at 0x1b0e31db560>"
      ]
     },
     "execution_count": 14,
     "metadata": {},
     "output_type": "execute_result"
    }
   ],
   "source": [
    "model.fit(x = scaled_train_sample , y = train_lebels , validation_split = 0.1 , batch_size = 10 , shuffle = True , epochs = 30 , verbose = 2)"
   ]
  },
  {
   "cell_type": "markdown",
   "id": "4572cfdd-9945-4b51-a6a9-8ed22e0c3a4c",
   "metadata": {},
   "source": [
    "Bulding a test set and predicting"
   ]
  },
  {
   "cell_type": "code",
   "execution_count": 16,
   "id": "da96252c-b23d-48a0-b4e3-c18151c217d0",
   "metadata": {},
   "outputs": [],
   "source": [
    "test_lebels = []\n",
    "test_sample = []"
   ]
  },
  {
   "cell_type": "code",
   "execution_count": 17,
   "id": "4130ab3f-c7a5-48f4-a26c-cb65b964ee8f",
   "metadata": {},
   "outputs": [],
   "source": [
    "for i in range(50):\n",
    "    # the ~5% of Younger pepoles in who did exprience side effect of medicis\n",
    "    random_young = randint(13,64)\n",
    "    test_sample.append(random_young)\n",
    "    test_lebels.append(1)\n",
    "\n",
    "    # the ~5% of Older pepoles in who did exprience side effect of medicis\n",
    "    random_older = randint(65,100)\n",
    "    test_sample.append(random_older)\n",
    "    test_lebels.append(0)\n",
    "\n",
    "for i in range(1000):\n",
    "        # the ~95% of Younger pepoles in who did not exprience side effect of medicis\n",
    "    random_young = randint(13,64)\n",
    "    test_sample.append(random_young)\n",
    "    test_lebels.append(0)\n",
    "\n",
    "    # the ~95% of Older pepoles in who did not exprience side effect of medicis\n",
    "    random_older = randint(65,100)\n",
    "    test_sample.append(random_older)\n",
    "    test_lebels.append(1)\n",
    "    \n",
    "    "
   ]
  },
  {
   "cell_type": "code",
   "execution_count": 18,
   "id": "ea4dc621-3f66-4b7e-a0de-4caf6686564d",
   "metadata": {},
   "outputs": [],
   "source": [
    "test_lebels = np.array(train_lebels)\n",
    "test_sample = np.array(train_sample)\n",
    "test_lebels , train_sample = shuffle(test_lebels , test_sample)"
   ]
  },
  {
   "cell_type": "code",
   "execution_count": 19,
   "id": "9bff4fea-310e-4239-bd65-64868e702586",
   "metadata": {},
   "outputs": [
    {
     "data": {
      "text/plain": [
       "array([[0.48275862],\n",
       "       [0.27586207],\n",
       "       [0.62068966],\n",
       "       [0.29885057],\n",
       "       [0.24137931]])"
      ]
     },
     "execution_count": 19,
     "metadata": {},
     "output_type": "execute_result"
    }
   ],
   "source": [
    "scaler = MinMaxScaler(feature_range = (0,1))\n",
    "scaled_test_sample = scaler.fit_transform(test_sample.reshape(-1,1))\n",
    "scaled_test_sample[:5]"
   ]
  },
  {
   "cell_type": "code",
   "execution_count": 20,
   "id": "90a94733-911f-4b9a-9f0c-dae1f57eb757",
   "metadata": {},
   "outputs": [],
   "source": [
    "predicions = model.predict(x = scaled_test_sample , \n",
    "                           batch_size = 10,\n",
    "                           verbose = 0)"
   ]
  },
  {
   "cell_type": "code",
   "execution_count": 21,
   "id": "c9edc02c-d1ff-490a-ba78-07e070d05b07",
   "metadata": {},
   "outputs": [
    {
     "name": "stdout",
     "output_type": "stream",
     "text": [
      "[[0.732909   0.26709095]\n",
      " [0.9414022  0.05859779]\n",
      " [0.3546964  0.6453036 ]\n",
      " ...\n",
      " [0.93854856 0.06145141]\n",
      " [0.94577074 0.05422928]\n",
      " [0.07767729 0.9223227 ]]\n"
     ]
    }
   ],
   "source": [
    "print(predicions)"
   ]
  },
  {
   "cell_type": "code",
   "execution_count": 22,
   "id": "d3795ee5-246a-43e0-bd67-52c2bf6198af",
   "metadata": {},
   "outputs": [
    {
     "data": {
      "text/plain": [
       "array([0, 0, 1, 0, 0], dtype=int64)"
      ]
     },
     "execution_count": 22,
     "metadata": {},
     "output_type": "execute_result"
    }
   ],
   "source": [
    "rounded_predicions = np.argmax(predicions , axis = 1)\n",
    "rounded_predicions[:5]"
   ]
  },
  {
   "cell_type": "markdown",
   "id": "470d2c17-9373-45cd-a255-524985dfe19d",
   "metadata": {},
   "source": [
    "#Confusion Matrices for Accuracy check"
   ]
  },
  {
   "cell_type": "code",
   "execution_count": 24,
   "id": "818f6cf9-e1c5-4077-a382-27a748c7e0c9",
   "metadata": {},
   "outputs": [],
   "source": [
    "from sklearn.metrics import confusion_matrix\n",
    "import itertools\n",
    "import matplotlib.pyplot as plt"
   ]
  },
  {
   "cell_type": "code",
   "execution_count": 25,
   "id": "e595e896-2318-43ac-93f5-0d200ef7ca85",
   "metadata": {},
   "outputs": [],
   "source": [
    "cm = confusion_matrix(y_true = test_lebels , y_pred = rounded_predicions)"
   ]
  },
  {
   "cell_type": "code",
   "execution_count": 26,
   "id": "89b6ce1c-73d8-41d1-b249-e420cf84cc1c",
   "metadata": {},
   "outputs": [],
   "source": [
    "def plot_confusion_matrix(cm , classes , normalize = False , title = 'confusion mattrix' , cmap = plt.cm.Blues):\n",
    "    plt.imshow(cm , interpolation = 'nearest' , cmap = cmap)\n",
    "    plt.title(title)\n",
    "    plt.colorbar()\n",
    "    tick_marks = np.arange(len(classes))\n",
    "    plt.xticks(tick_marks , classes , rotation = 45)\n",
    "    plt.yticks(tick_marks , classes)\n",
    "\n",
    "    if normalize:\n",
    "        cm = cm.astype('float')/cm.sum(axis = 1)[: , np.newaxis]\n",
    "        print(\"Normalized confusion Matrix\")\n",
    "    else:\n",
    "        print(\"Confusion Matrix without Normalized\")\n",
    "    print(cm)\n",
    "\n",
    "    thresh = cm.max()/2\n",
    "    for i , j in itertools.product(range(cm.shape[0]) , range(cm.shape[1])):\n",
    "        plt.text( j , i ,cm[i , j],\n",
    "                horizontalalignment = \"center\",\n",
    "                color = \"red\" if cm[i , j] > thresh else \"green\")\n",
    "\n",
    "    plt.tight_layout()\n",
    "    plt.ylabel('True label')\n",
    "    plt.xlabel('Predicted label')\n",
    "\n",
    "\n",
    "    \n",
    "    "
   ]
  },
  {
   "cell_type": "code",
   "execution_count": 27,
   "id": "7e21d455-84ab-418e-9bc3-364087607bf5",
   "metadata": {},
   "outputs": [],
   "source": [
    "cm_plot_labels = [\"no_side_effects\" , \"had_side_effects\"]"
   ]
  },
  {
   "cell_type": "code",
   "execution_count": 28,
   "id": "2814cda0-0a79-40ab-8f95-8e65be795230",
   "metadata": {},
   "outputs": [
    {
     "name": "stdout",
     "output_type": "stream",
     "text": [
      "Confusion Matrix without Normalized\n",
      "[[516 534]\n",
      " [499 551]]\n"
     ]
    },
    {
     "data": {
      "image/png": "[encoded data removed]",
      "text/plain": [
       "<Figure size 640x480 with 2 Axes>"
      ]
     },
     "metadata": {},
     "output_type": "display_data"
    }
   ],
   "source": [
    "plot_confusion_matrix(cm = cm , classes = cm_plot_labels , title = \"Confusion_Matrix\")"
   ]
  }
 ],
 "metadata": {
  "kernelspec": {
   "display_name": "Python 3 (ipykernel)",
   "language": "python",
   "name": "python3"
  },
  "language_info": {
   "codemirror_mode": {
    "name": "ipython",
    "version": 3
   },
   "file_extension": ".py",
   "mimetype": "text/x-python",
   "name": "python",
   "nbconvert_exporter": "python",
   "pygments_lexer": "ipython3",
   "version": "3.12.4"
  }
 },
 "nbformat": 4,
 "nbformat_minor": 5
}

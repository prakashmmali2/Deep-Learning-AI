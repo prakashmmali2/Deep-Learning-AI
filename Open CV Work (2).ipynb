{
 "cells": [
  {
   "cell_type": "code",
   "execution_count": 1,
   "id": "7bd1e492-663a-4e51-ae16-158d84e083d8",
   "metadata": {},
   "outputs": [],
   "source": [
    "import tensorflow as tf\n",
    "from tensorflow.keras import layers, models\n",
    "import numpy as np\n",
    "from sklearn.model_selection import train_test_split\n",
    "from sklearn.metrics import precision_score, recall_score, f1_score, jaccard_score"
   ]
  },
  {
   "cell_type": "code",
   "execution_count": 2,
   "id": "ab882ce2-4792-4b9d-ba70-d55cfb765e64",
   "metadata": {},
   "outputs": [
    {
     "name": "stdout",
     "output_type": "stream",
     "text": [
      "Requirement already satisfied: pdf2image in c:\\jupyter\\new folder\\lib\\site-packages (1.17.0)\n",
      "Requirement already satisfied: Pillow in c:\\jupyter\\new folder\\lib\\site-packages (10.3.0)\n",
      "Requirement already satisfied: numpy in c:\\jupyter\\new folder\\lib\\site-packages (1.26.4)\n",
      "Requirement already satisfied: opencv-python in c:\\jupyter\\new folder\\lib\\site-packages (4.10.0.84)\n"
     ]
    }
   ],
   "source": [
    "!pip install pdf2image Pillow numpy opencv-python"
   ]
  },
  {
   "cell_type": "code",
   "execution_count": 3,
   "id": "e1e321f4-41dd-4194-b03a-5c8cb692e999",
   "metadata": {},
   "outputs": [
    {
     "name": "stdout",
     "output_type": "stream",
     "text": [
      "Loaded 6 images from the zip file.\n"
     ]
    }
   ],
   "source": [
    "import zipfile\n",
    "import os\n",
    "from PIL import Image\n",
    "import numpy as np\n",
    "\n",
    "def extract_and_load_images(zip_file_path):\n",
    "    \"\"\"Extract JPEG images from a zip file and load them into a list.\"\"\"\n",
    "    images = []\n",
    "    \n",
    "    # Create a temporary directory to extract images\n",
    "    with zipfile.ZipFile(zip_file_path, 'r') as zip_ref:\n",
    "        # Extract all files to a temporary folder\n",
    "        zip_ref.extractall('temp_images')\n",
    "        extracted_files = zip_ref.namelist()\n",
    "\n",
    "        # Load images from the extracted files\n",
    "        for file_name in extracted_files:\n",
    "            if file_name.endswith('.jpg') or file_name.endswith('.jpeg'):\n",
    "                img_path = os.path.join('temp_images', file_name)\n",
    "                img = Image.open(img_path)\n",
    "                img = img.resize((128, 128))  # Resize image to uniform size\n",
    "                images.append(np.array(img))\n",
    "\n",
    "    # Clean up the temporary directory if needed\n",
    "    # Uncomment the next lines to delete the temp directory after loading images\n",
    "    # import shutil\n",
    "    # shutil.rmtree('temp_images')\n",
    "    \n",
    "    return np.array(images)\n",
    "\n",
    "# Example usage\n",
    "zip_file_path = 'ilovepdf_pages-to-jpg.zip'  # Replace with your zip file path\n",
    "images = extract_and_load_images(zip_file_path)\n",
    "\n",
    "print(f'Loaded {len(images)} images from the zip file.')"
   ]
  },
  {
   "cell_type": "code",
   "execution_count": 4,
   "id": "70d921ef-db92-4a9d-a3cc-2050d53aac9d",
   "metadata": {},
   "outputs": [
    {
     "name": "stdout",
     "output_type": "stream",
     "text": [
      "Loaded 6 images and 6 masks.\n"
     ]
    }
   ],
   "source": [
    "import zipfile\n",
    "import os\n",
    "from PIL import Image\n",
    "import numpy as np\n",
    "\n",
    "def extract_and_load_images(zip_file_path, img_size=(128, 128)):\n",
    "    \"\"\"Extract JPEG images from a zip file and load them into a list.\"\"\"\n",
    "    images = []\n",
    "    \n",
    "    # Create a temporary directory to extract images\n",
    "    with zipfile.ZipFile(zip_file_path, 'r') as zip_ref:\n",
    "        # Extract all files to a temporary folder\n",
    "        zip_ref.extractall('temp_images')\n",
    "        extracted_files = zip_ref.namelist()\n",
    "\n",
    "        # Load images from the extracted files\n",
    "        for file_name in extracted_files:\n",
    "            if file_name.endswith('.jpg') or file_name.endswith('.jpeg'):\n",
    "                img_path = os.path.join('temp_images', file_name)\n",
    "                img = Image.open(img_path)\n",
    "                img = img.resize(img_size)  # Resize image to uniform size\n",
    "                images.append(np.array(img))\n",
    "\n",
    "    return np.array(images)\n",
    "\n",
    "def extract_and_load_masks(zip_file_path, img_size=(128, 128)):\n",
    "    \"\"\"Extract binary masks from a zip file and load them into a list.\"\"\"\n",
    "    masks = []\n",
    "    \n",
    "    # Create a temporary directory to extract masks\n",
    "    with zipfile.ZipFile(zip_file_path, 'r') as zip_ref:\n",
    "        zip_ref.extractall('temp_masks')\n",
    "        extracted_files = zip_ref.namelist()\n",
    "\n",
    "        # Load masks from the extracted files\n",
    "        for file_name in extracted_files:\n",
    "            if file_name.endswith('.jpg') or file_name.endswith('.jpeg'):\n",
    "                mask_path = os.path.join('temp_masks', file_name)\n",
    "                mask = Image.open(mask_path).convert('L')  # Convert to grayscale\n",
    "                mask = mask.resize(img_size)  # Resize mask to uniform size\n",
    "                mask = np.array(mask) > 127  # Binarize the mask (0 or 1)\n",
    "                masks.append(mask.astype(np.float32))\n",
    "\n",
    "    return np.array(masks)\n",
    "\n",
    "def load_dataset(images_zip_path, masks_zip_path, img_size=(128, 128)):\n",
    "    \"\"\"Load images and binary masks from zip files.\"\"\"\n",
    "    X = extract_and_load_images(images_zip_path, img_size)\n",
    "    y = extract_and_load_masks(masks_zip_path, img_size)\n",
    "    return X, y\n",
    "\n",
    "# Example usage\n",
    "images_zip_path = 'ilovepdf_pages-to-jpg.zip'   # Replace with your zip file path for images\n",
    "masks_zip_path = 'ilovepdf_pages-to-jpg.zip'      # Replace with your zip file path for masks\n",
    "\n",
    "X, y = load_dataset(images_zip_path, masks_zip_path)\n",
    "\n",
    "print(f'Loaded {len(X)} images and {len(y)} masks.')\n"
   ]
  },
  {
   "cell_type": "code",
   "execution_count": 5,
   "id": "14a9f7aa-abab-4e8e-a423-9f62bcc747e7",
   "metadata": {},
   "outputs": [],
   "source": [
    "# Example shape\n",
    "X = np.random.rand(100, 128, 128, 3)  # Example image shape (dummy data)\n",
    "y = np.random.randint(0, 2, (100, 128, 128, 1))  # Example mask shape (dummy data)\n",
    "\n",
    "# Split dataset into training and validation sets\n",
    "X_train, X_val, y_train, y_val = train_test_split(X, y, test_size=0.2, random_state=42)"
   ]
  },
  {
   "cell_type": "code",
   "execution_count": 6,
   "id": "18c37929-98f5-4d92-88cd-82456c4829ea",
   "metadata": {},
   "outputs": [],
   "source": [
    "# Create a CRNN model\n",
    "def create_crnn_model(input_shape):\n",
    "    inputs = layers.Input(shape=input_shape)\n",
    "    \n",
    "    # Encoder (Downsampling path)\n",
    "    x = layers.Conv2D(32, (3, 3), activation='relu', padding='same')(inputs)\n",
    "    x = layers.MaxPooling2D(pool_size=(2, 2))(x)\n",
    "    x = layers.Conv2D(64, (3, 3), activation='relu', padding='same')(x)\n",
    "    x = layers.MaxPooling2D(pool_size=(2, 2))(x)\n",
    "    x = layers.Conv2D(128, (3, 3), activation='relu', padding='same')(x)\n",
    "    \n",
    "    # Decoder (Upsampling path)\n",
    "    x = layers.Conv2DTranspose(64, (2, 2), strides=(2, 2), padding='same')(x)\n",
    "    x = layers.Conv2D(64, (3, 3), activation='relu', padding='same')(x)\n",
    "    x = layers.Conv2DTranspose(32, (2, 2), strides=(2, 2), padding='same')(x)\n",
    "    x = layers.Conv2D(32, (3, 3), activation='relu', padding='same')(x)\n",
    "    \n",
    "    # Output layer\n",
    "    outputs = layers.Conv2D(1, (1, 1), activation='sigmoid')(x)\n",
    "    \n",
    "    model = models.Model(inputs=inputs, outputs=outputs)\n",
    "    model.compile(optimizer='adam', loss='binary_crossentropy', metrics=['accuracy'])\n",
    "    \n",
    "    return model\n"
   ]
  },
  {
   "cell_type": "code",
   "execution_count": 7,
   "id": "692d49f3-3e8a-48d9-a0e6-d6659b8d82b1",
   "metadata": {},
   "outputs": [
    {
     "name": "stdout",
     "output_type": "stream",
     "text": [
      "Epoch 1/10\n",
      "\u001b[1m5/5\u001b[0m \u001b[32m━━━━━━━━━━━━━━━━━━━━\u001b[0m\u001b[37m\u001b[0m \u001b[1m13s\u001b[0m 2s/step - accuracy: 0.5008 - loss: 0.6932 - val_accuracy: 0.4999 - val_loss: 0.6932\n",
      "Epoch 2/10\n",
      "\u001b[1m5/5\u001b[0m \u001b[32m━━━━━━━━━━━━━━━━━━━━\u001b[0m\u001b[37m\u001b[0m \u001b[1m3s\u001b[0m 633ms/step - accuracy: 0.5016 - loss: 0.6931 - val_accuracy: 0.5016 - val_loss: 0.6931\n",
      "Epoch 3/10\n",
      "\u001b[1m5/5\u001b[0m \u001b[32m━━━━━━━━━━━━━━━━━━━━\u001b[0m\u001b[37m\u001b[0m \u001b[1m3s\u001b[0m 652ms/step - accuracy: 0.5022 - loss: 0.6931 - val_accuracy: 0.4996 - val_loss: 0.6932\n",
      "Epoch 4/10\n",
      "\u001b[1m5/5\u001b[0m \u001b[32m━━━━━━━━━━━━━━━━━━━━\u001b[0m\u001b[37m\u001b[0m \u001b[1m4s\u001b[0m 802ms/step - accuracy: 0.5024 - loss: 0.6931 - val_accuracy: 0.5008 - val_loss: 0.6932\n",
      "Epoch 5/10\n",
      "\u001b[1m5/5\u001b[0m \u001b[32m━━━━━━━━━━━━━━━━━━━━\u001b[0m\u001b[37m\u001b[0m \u001b[1m3s\u001b[0m 580ms/step - accuracy: 0.5022 - loss: 0.6931 - val_accuracy: 0.5008 - val_loss: 0.6931\n",
      "Epoch 6/10\n",
      "\u001b[1m5/5\u001b[0m \u001b[32m━━━━━━━━━━━━━━━━━━━━\u001b[0m\u001b[37m\u001b[0m \u001b[1m3s\u001b[0m 567ms/step - accuracy: 0.5031 - loss: 0.6931 - val_accuracy: 0.5008 - val_loss: 0.6932\n",
      "Epoch 7/10\n",
      "\u001b[1m5/5\u001b[0m \u001b[32m━━━━━━━━━━━━━━━━━━━━\u001b[0m\u001b[37m\u001b[0m \u001b[1m3s\u001b[0m 630ms/step - accuracy: 0.5027 - loss: 0.6931 - val_accuracy: 0.5003 - val_loss: 0.6932\n",
      "Epoch 8/10\n",
      "\u001b[1m5/5\u001b[0m \u001b[32m━━━━━━━━━━━━━━━━━━━━\u001b[0m\u001b[37m\u001b[0m \u001b[1m3s\u001b[0m 560ms/step - accuracy: 0.5033 - loss: 0.6931 - val_accuracy: 0.5008 - val_loss: 0.6932\n",
      "Epoch 9/10\n",
      "\u001b[1m5/5\u001b[0m \u001b[32m━━━━━━━━━━━━━━━━━━━━\u001b[0m\u001b[37m\u001b[0m \u001b[1m3s\u001b[0m 624ms/step - accuracy: 0.5030 - loss: 0.6931 - val_accuracy: 0.5002 - val_loss: 0.6932\n",
      "Epoch 10/10\n",
      "\u001b[1m5/5\u001b[0m \u001b[32m━━━━━━━━━━━━━━━━━━━━\u001b[0m\u001b[37m\u001b[0m \u001b[1m4s\u001b[0m 718ms/step - accuracy: 0.5038 - loss: 0.6931 - val_accuracy: 0.5012 - val_loss: 0.6932\n",
      "\u001b[1m1/1\u001b[0m \u001b[32m━━━━━━━━━━━━━━━━━━━━\u001b[0m\u001b[37m\u001b[0m \u001b[1m0s\u001b[0m 334ms/step\n"
     ]
    }
   ],
   "source": [
    "# Build and train the model\n",
    "model = create_crnn_model((128, 128, 3))\n",
    "model.fit(X_train, y_train, validation_data=(X_val, y_val), epochs=10, batch_size=16)\n",
    "\n",
    "# Predictions\n",
    "predictions = model.predict(X_val)\n",
    "predictions = (predictions > 0.5).astype(int)\n",
    "\n",
    "# Flatten predictions and ground truths for metric calculations\n",
    "y_val_flat = y_val.flatten()\n",
    "predictions_flat = predictions.flatten()"
   ]
  },
  {
   "cell_type": "code",
   "execution_count": 8,
   "id": "c0065b75-cae1-4213-bc70-50bbb522e4fd",
   "metadata": {},
   "outputs": [
    {
     "name": "stdout",
     "output_type": "stream",
     "text": [
      "Precision: 0.50\n",
      "Recall: 0.22\n",
      "F1 Score: 0.31\n",
      "IoU: 0.18\n"
     ]
    }
   ],
   "source": [
    "# Calculate evaluation metrics\n",
    "precision = precision_score(y_val_flat, predictions_flat)\n",
    "recall = recall_score(y_val_flat, predictions_flat)\n",
    "f1 = f1_score(y_val_flat, predictions_flat)\n",
    "iou = jaccard_score(y_val_flat, predictions_flat)\n",
    "\n",
    "print(f\"Precision: {precision:.2f}\")\n",
    "print(f\"Recall: {recall:.2f}\")\n",
    "print(f\"F1 Score: {f1:.2f}\")\n",
    "print(f\"IoU: {iou:.2f}\")"
   ]
  }
 ],
 "metadata": {
  "kernelspec": {
   "display_name": "Python 3 (ipykernel)",
   "language": "python",
   "name": "python3"
  },
  "language_info": {
   "codemirror_mode": {
    "name": "ipython",
    "version": 3
   },
   "file_extension": ".py",
   "mimetype": "text/x-python",
   "name": "python",
   "nbconvert_exporter": "python",
   "pygments_lexer": "ipython3",
   "version": "3.12.4"
  }
 },
 "nbformat": 4,
 "nbformat_minor": 5
}
